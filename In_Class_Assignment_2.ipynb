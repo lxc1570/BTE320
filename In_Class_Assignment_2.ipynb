{
  "nbformat": 4,
  "nbformat_minor": 0,
  "metadata": {
    "colab": {
      "provenance": [],
      "authorship_tag": "ABX9TyOvjdSahoTzQfkjQTRAH7MH",
      "include_colab_link": true
    },
    "kernelspec": {
      "name": "python3",
      "display_name": "Python 3"
    },
    "language_info": {
      "name": "python"
    }
  },
  "cells": [
    {
      "cell_type": "markdown",
      "metadata": {
        "id": "view-in-github",
        "colab_type": "text"
      },
      "source": [
        "<a href=\"https://colab.research.google.com/github/lxc1570/BTE320/blob/main/In_Class_Assignment_2.ipynb\" target=\"_parent\"><img src=\"https://colab.research.google.com/assets/colab-badge.svg\" alt=\"Open In Colab\"/></a>"
      ]
    },
    {
      "cell_type": "code",
      "execution_count": 18,
      "metadata": {
        "colab": {
          "base_uri": "https://localhost:8080/"
        },
        "id": "VyK9Uv-naQsF",
        "outputId": "c3837943-5c2f-4d36-a905-9a88b41d10ca"
      },
      "outputs": [
        {
          "output_type": "stream",
          "name": "stdout",
          "text": [
            "Enter sales ($)12000\n",
            "Cost: $4800.0\n",
            "Profit: $7200.0\n",
            "Enter Tax Rate (%)30\n",
            "Taxes: $2160.0\n",
            "Net income: $5040.0\n"
          ]
        }
      ],
      "source": [
        "Sales=float(input(\"Enter sales ($)\"))\n",
        "\n",
        "#Cost of Goods Sold\n",
        "Cost=Sales*0.4\n",
        "\n",
        "#Gross Profits\n",
        "Gross_Profits = Sales-Cost\n",
        "print(f\"Cost: ${Cost}\")\n",
        "print(f\"Gross Profit: ${Gross_Profits}\")\n",
        "\n",
        "#Taxes\n",
        "Tax_Rate=float(input(\"Enter Tax Rate (%)\"))\n",
        "Taxes=Gross_Profits*(Tax_Rate/100)\n",
        "\n",
        "#Net Income\n",
        "Net_Income=Gross_Profits-Taxes\n",
        "\n",
        "print(f\"Taxes: ${Taxes}\")\n",
        "print(f\"Net income: ${Net_Income}\")\n"
      ]
    }
  ]
}