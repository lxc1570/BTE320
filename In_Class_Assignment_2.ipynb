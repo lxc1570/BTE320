{
  "nbformat": 4,
  "nbformat_minor": 0,
  "metadata": {
    "colab": {
      "provenance": [],
      "authorship_tag": "ABX9TyNCK7atK+S3YBkmJIroGnRd",
      "include_colab_link": true
    },
    "kernelspec": {
      "name": "python3",
      "display_name": "Python 3"
    },
    "language_info": {
      "name": "python"
    }
  },
  "cells": [
    {
      "cell_type": "markdown",
      "metadata": {
        "id": "view-in-github",
        "colab_type": "text"
      },
      "source": [
        "<a href=\"https://colab.research.google.com/github/lxc1570/BTE320/blob/main/In_Class_Assignment_2.ipynb\" target=\"_parent\"><img src=\"https://colab.research.google.com/assets/colab-badge.svg\" alt=\"Open In Colab\"/></a>"
      ]
    },
    {
      "cell_type": "code",
      "execution_count": null,
      "metadata": {
        "colab": {
          "base_uri": "https://localhost:8080/"
        },
        "id": "VyK9Uv-naQsF",
        "outputId": "c3837943-5c2f-4d36-a905-9a88b41d10ca"
      },
      "outputs": [
        {
          "output_type": "stream",
          "name": "stdout",
          "text": [
            "Enter sales ($)12000\n",
            "Cost: $4800.0\n",
            "Profit: $7200.0\n",
            "Enter Tax Rate (%)30\n",
            "Taxes: $2160.0\n",
            "Net income: $5040.0\n"
          ]
        }
      ],
      "source": [
        "Sales=float(input(\"Enter sales ($)\"))\n",
        "\n",
        "#Cost of Goods Sold\n",
        "Cost=Sales*0.4\n",
        "\n",
        "#Gross Profits\n",
        "Gross_Profits = Sales-Cost\n",
        "print(f\"Cost: ${Cost}\")\n",
        "print(f\"Gross Profit: ${Gross_Profits}\")\n",
        "\n",
        "#Taxes\n",
        "Tax_Rate=float(input(\"Enter Tax Rate (%)\"))\n",
        "Taxes=Gross_Profits*(Tax_Rate/100)\n",
        "\n",
        "#Net Income\n",
        "Net_Income=Gross_Profits-Taxes\n",
        "\n",
        "print(f\"Taxes: ${Taxes}\")\n",
        "print(f\"Net income: ${Net_Income}\")\n"
      ]
    },
    {
      "cell_type": "code",
      "source": [
        "#Inputs\n",
        "D=int(input(\"Insert Annual demand\"))\n",
        "S=float(input(\"Insert reorder cost\"))\n",
        "H=float(input(\"Insert holding cost\"))\n",
        "\n",
        "#Output\n",
        "EOQ=(2*D*S/H)**(1/2)\n",
        "print(f\"EQO = {EOQ} units\")"
      ],
      "metadata": {
        "colab": {
          "base_uri": "https://localhost:8080/"
        },
        "id": "JS4qIsZFncXm",
        "outputId": "e588b23b-6576-43f1-8eae-bbaac966366f"
      },
      "execution_count": null,
      "outputs": [
        {
          "output_type": "stream",
          "name": "stdout",
          "text": [
            "Insert Annual demand20\n",
            "Insert reorder cost20\n",
            "Insert holding cost20\n",
            "EQO = 6.324555320336759 units\n"
          ]
        }
      ]
    },
    {
      "cell_type": "code",
      "source": [
        "x=9\n",
        "\n",
        "if x%2==0:\n",
        "  if x%3==0:\n",
        "    print(\"x is divisible by both 2 and 3.\")\n",
        "  else:\n",
        "    print('x is divisible by 2 but not by 3.')\n",
        "elif x%3==0:\n",
        "  print('x is divisible by 3 but not by 2.')\n",
        "else:\n",
        "  print('x is not divisible by 2 nor 3.')"
      ],
      "metadata": {
        "colab": {
          "base_uri": "https://localhost:8080/"
        },
        "id": "PYDk9KlLbRQr",
        "outputId": "073f919f-2d11-419e-f0e7-6d8803d45b3b"
      },
      "execution_count": null,
      "outputs": [
        {
          "output_type": "stream",
          "name": "stdout",
          "text": [
            "x is divisible by 3 but not by 2.\n"
          ]
        }
      ]
    },
    {
      "cell_type": "code",
      "source": [
        "if x%2==0 and x%3==0:\n",
        "  print('x is divisible by both')\n",
        "elif x%2==0:\n",
        "  print('x is divisible by 2 only')\n",
        "elif x%3==0:\n",
        "  print('x is divisible by 3 only')\n",
        "else:\n",
        "  print('x is divisible by none')"
      ],
      "metadata": {
        "id": "QnKMG6H-hNeX"
      },
      "execution_count": null,
      "outputs": []
    },
    {
      "cell_type": "code",
      "source": [
        "if x%2==0:\n",
        "  s='even'\n",
        "else:\n",
        "  s='odd'"
      ],
      "metadata": {
        "id": "WBycxztQku6h"
      },
      "execution_count": null,
      "outputs": []
    },
    {
      "cell_type": "code",
      "source": [
        "print('even' if x%2==0 else 'odd')"
      ],
      "metadata": {
        "id": "6qsP2CSKk04y"
      },
      "execution_count": null,
      "outputs": []
    },
    {
      "cell_type": "code",
      "source": [
        "##MINI CALCULATOR##\n",
        "\n",
        "##Input Values\n",
        "N1=float(input(\"Enter first number: \"))\n",
        "O=input('Enter operation: ')\n",
        "N2=float(input(\"Enter second number: \"))\n",
        "\n",
        "##Calculations\n",
        "if O=='+':\n",
        "  sum=N1+N2\n",
        "  print(\"result=\",sum)\n",
        "elif O=='-':\n",
        "  subtraction=N1-N2\n",
        "  print(\"result=\",subtraction)\n",
        "elif O=='/':\n",
        "  division=N1/N2\n",
        "  print('result=',division)\n",
        "elif O=='x':\n",
        "  multiplication=N1*N2\n",
        "  print('result=',multiplication)\n",
        "elif O==\"**\":\n",
        "  power=N1**N2\n",
        "  print('result=',power)\n",
        "elif O==\"%\":\n",
        "  remainder=N1%N2\n",
        "  print('result=',remainder)\n",
        "elif O==\"//\":\n",
        "  divide2=N1//N2\n",
        "  print('result=',divide2)\n",
        "else:\n",
        "  print(\"Error, operation not found\")"
      ],
      "metadata": {
        "colab": {
          "base_uri": "https://localhost:8080/"
        },
        "id": "n7wntT1DqZmc",
        "outputId": "2d59f9dd-3c6b-45e8-9435-4bae04d5461c"
      },
      "execution_count": 20,
      "outputs": [
        {
          "output_type": "stream",
          "name": "stdout",
          "text": [
            "Enter first number: 5\n",
            "Enter operation: //\n",
            "Enter second number: 2\n",
            "result= 2.0\n"
          ]
        }
      ]
    }
  ]
}