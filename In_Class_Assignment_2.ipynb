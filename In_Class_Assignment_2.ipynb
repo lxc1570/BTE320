{
  "nbformat": 4,
  "nbformat_minor": 0,
  "metadata": {
    "colab": {
      "provenance": [],
      "authorship_tag": "ABX9TyP26Tn3E3iYnP+X+hWXbof5",
      "include_colab_link": true
    },
    "kernelspec": {
      "name": "python3",
      "display_name": "Python 3"
    },
    "language_info": {
      "name": "python"
    }
  },
  "cells": [
    {
      "cell_type": "markdown",
      "metadata": {
        "id": "view-in-github",
        "colab_type": "text"
      },
      "source": [
        "<a href=\"https://colab.research.google.com/github/lxc1570/BTE320/blob/main/In_Class_Assignment_2.ipynb\" target=\"_parent\"><img src=\"https://colab.research.google.com/assets/colab-badge.svg\" alt=\"Open In Colab\"/></a>"
      ]
    },
    {
      "cell_type": "code",
      "execution_count": null,
      "metadata": {
        "colab": {
          "base_uri": "https://localhost:8080/"
        },
        "id": "VyK9Uv-naQsF",
        "outputId": "c3837943-5c2f-4d36-a905-9a88b41d10ca"
      },
      "outputs": [
        {
          "output_type": "stream",
          "name": "stdout",
          "text": [
            "Enter sales ($)12000\n",
            "Cost: $4800.0\n",
            "Profit: $7200.0\n",
            "Enter Tax Rate (%)30\n",
            "Taxes: $2160.0\n",
            "Net income: $5040.0\n"
          ]
        }
      ],
      "source": [
        "Sales=float(input(\"Enter sales ($)\"))\n",
        "\n",
        "#Cost of Goods Sold\n",
        "Cost=Sales*0.4\n",
        "\n",
        "#Gross Profits\n",
        "Gross_Profits = Sales-Cost\n",
        "print(f\"Cost: ${Cost}\")\n",
        "print(f\"Gross Profit: ${Gross_Profits}\")\n",
        "\n",
        "#Taxes\n",
        "Tax_Rate=float(input(\"Enter Tax Rate (%)\"))\n",
        "Taxes=Gross_Profits*(Tax_Rate/100)\n",
        "\n",
        "#Net Income\n",
        "Net_Income=Gross_Profits-Taxes\n",
        "\n",
        "print(f\"Taxes: ${Taxes}\")\n",
        "print(f\"Net income: ${Net_Income}\")\n"
      ]
    },
    {
      "cell_type": "code",
      "source": [
        "#Inputs\n",
        "D=int(input(\"Insert Annual demand\"))\n",
        "S=float(input(\"Insert reorder cost\"))\n",
        "H=float(input(\"Insert holding cost\"))\n",
        "\n",
        "#Output\n",
        "EOQ=(2*D*S/H)**(1/2)\n",
        "print(f\"EQO = {EOQ} units\")"
      ],
      "metadata": {
        "colab": {
          "base_uri": "https://localhost:8080/"
        },
        "id": "JS4qIsZFncXm",
        "outputId": "e588b23b-6576-43f1-8eae-bbaac966366f"
      },
      "execution_count": null,
      "outputs": [
        {
          "output_type": "stream",
          "name": "stdout",
          "text": [
            "Insert Annual demand20\n",
            "Insert reorder cost20\n",
            "Insert holding cost20\n",
            "EQO = 6.324555320336759 units\n"
          ]
        }
      ]
    },
    {
      "cell_type": "code",
      "source": [
        "x=9\n",
        "\n",
        "if x%2==0:\n",
        "  if x%3==0:\n",
        "    print(\"x is divisible by both 2 and 3.\")\n",
        "  else:\n",
        "    print('x is divisible by 2 but not by 3.')\n",
        "elif x%3==0:\n",
        "  print('x is divisible by 3 but not by 2.')\n",
        "else:\n",
        "  print('x is not divisible by 2 nor 3.')"
      ],
      "metadata": {
        "colab": {
          "base_uri": "https://localhost:8080/"
        },
        "id": "PYDk9KlLbRQr",
        "outputId": "073f919f-2d11-419e-f0e7-6d8803d45b3b"
      },
      "execution_count": null,
      "outputs": [
        {
          "output_type": "stream",
          "name": "stdout",
          "text": [
            "x is divisible by 3 but not by 2.\n"
          ]
        }
      ]
    },
    {
      "cell_type": "code",
      "source": [
        "if x%2==0 and x%3==0:\n",
        "  print('x is divisible by both')\n",
        "elif x%2==0:\n",
        "  print('x is divisible by 2 only')\n",
        "elif x%3==0:\n",
        "  print('x is divisible by 3 only')\n",
        "else:\n",
        "  print('x is divisible by none')"
      ],
      "metadata": {
        "id": "QnKMG6H-hNeX"
      },
      "execution_count": null,
      "outputs": []
    },
    {
      "cell_type": "code",
      "source": [
        "if x%2==0:\n",
        "  s='even'\n",
        "else:\n",
        "  s='odd'"
      ],
      "metadata": {
        "id": "WBycxztQku6h"
      },
      "execution_count": null,
      "outputs": []
    },
    {
      "cell_type": "code",
      "source": [
        "print('even' if x%2==0 else 'odd')"
      ],
      "metadata": {
        "id": "6qsP2CSKk04y"
      },
      "execution_count": null,
      "outputs": []
    },
    {
      "cell_type": "code",
      "source": [
        "##MINI CALCULATOR##\n",
        "\n",
        "##Input Values\n",
        "N1=float(input(\"Enter first number: \"))\n",
        "O=input('Enter operation: ')\n",
        "N2=float(input(\"Enter second number: \"))\n",
        "\n",
        "##Calculations\n",
        "if O=='+':\n",
        "  sum=N1+N2\n",
        "  print(\"result=\",sum)\n",
        "elif O=='-':\n",
        "  subtraction=N1-N2\n",
        "  print(\"result=\",subtraction)\n",
        "elif O=='/':\n",
        "  division=N1/N2\n",
        "  print('result=',division)\n",
        "elif O=='x':\n",
        "  multiplication=N1*N2\n",
        "  print('result=',multiplication)\n",
        "elif O==\"**\":\n",
        "  power=N1**N2\n",
        "  print('result=',power)\n",
        "elif O==\"%\":\n",
        "  remainder=N1%N2\n",
        "  print('result=',remainder)\n",
        "elif O==\"//\":\n",
        "  divide2=N1//N2\n",
        "  print('result=',divide2)\n",
        "else:\n",
        "  print(\"Error, operation not found\")"
      ],
      "metadata": {
        "colab": {
          "base_uri": "https://localhost:8080/"
        },
        "id": "n7wntT1DqZmc",
        "outputId": "2d59f9dd-3c6b-45e8-9435-4bae04d5461c"
      },
      "execution_count": null,
      "outputs": [
        {
          "output_type": "stream",
          "name": "stdout",
          "text": [
            "Enter first number: 5\n",
            "Enter operation: //\n",
            "Enter second number: 2\n",
            "result= 2.0\n"
          ]
        }
      ]
    },
    {
      "cell_type": "code",
      "source": [
        "for hours in range (1,9):\n",
        "  if hours<2:\n",
        "    print(hours,10)\n",
        "  elif hours>6:\n",
        "    print(hours,20)\n",
        "  else:\n",
        "    print(hours,hours*2.5+5)"
      ],
      "metadata": {
        "colab": {
          "base_uri": "https://localhost:8080/"
        },
        "id": "ICQ_UCJobrnA",
        "outputId": "a2faeead-aa29-4c6d-a550-70cb87d31c0a"
      },
      "execution_count": null,
      "outputs": [
        {
          "output_type": "stream",
          "name": "stdout",
          "text": [
            "1 10\n",
            "2 10.0\n",
            "3 12.5\n",
            "4 15.0\n",
            "5 17.5\n",
            "6 20.0\n",
            "7 20\n",
            "8 20\n"
          ]
        }
      ]
    },
    {
      "cell_type": "code",
      "source": [
        "for ad in range (0,201,25):\n",
        "  revenue=10*(20+2*ad**0.5)-200-ad\n",
        "  print(ad,round(revenue,1))"
      ],
      "metadata": {
        "colab": {
          "base_uri": "https://localhost:8080/"
        },
        "id": "ONGMh3g6vww9",
        "outputId": "23fd56f9-5d8e-4fa5-884b-3b42103c6a92"
      },
      "execution_count": null,
      "outputs": [
        {
          "output_type": "stream",
          "name": "stdout",
          "text": [
            "0 0.0\n",
            "25 75.0\n",
            "50 91.4\n",
            "75 98.2\n",
            "100 100.0\n",
            "125 98.6\n",
            "150 94.9\n",
            "175 89.6\n",
            "200 82.8\n"
          ]
        }
      ]
    },
    {
      "cell_type": "code",
      "source": [
        "a= 'This is a string'\n",
        "\n",
        "for char in a:\n",
        "  if char=='i':\n",
        "    print(char)"
      ],
      "metadata": {
        "colab": {
          "base_uri": "https://localhost:8080/"
        },
        "id": "fsRgqtQehlJx",
        "outputId": "27f13c15-60f9-4d39-d363-edddaa0c4928"
      },
      "execution_count": null,
      "outputs": [
        {
          "output_type": "stream",
          "name": "stdout",
          "text": [
            "i\n",
            "i\n",
            "i\n"
          ]
        }
      ]
    },
    {
      "cell_type": "code",
      "source": [
        "list1=[]\n",
        "cond=True\n",
        "while cond==True:\n",
        "  number=int(input(\"Please enter a number\"))\n",
        "  if number!=0:\n",
        "    list1.append(number)\n",
        "  else:\n",
        "    cond=False\n",
        "\n",
        "list1.sort(reverse=True)\n",
        "print(list1)"
      ],
      "metadata": {
        "colab": {
          "base_uri": "https://localhost:8080/"
        },
        "id": "RxIpjmGQyKd2",
        "outputId": "0ef49b93-10f6-4a17-ee71-709cb9a15f0d"
      },
      "execution_count": null,
      "outputs": [
        {
          "output_type": "stream",
          "name": "stdout",
          "text": [
            "Please enter a number1\n",
            "Please enter a number3\n",
            "Please enter a number2\n",
            "Please enter a number0\n",
            "[3, 2, 1]\n"
          ]
        }
      ]
    },
    {
      "cell_type": "code",
      "source": [
        "import random\n",
        "\n",
        "def get_computer_choice():\n",
        "    return random.choice(['rock', 'paper', 'scissors'])\n",
        "\n",
        "def get_winner(user, computer):\n",
        "    if user == computer:\n",
        "        return \"It's a tie!\"\n",
        "    elif (\n",
        "        (user == 'rock' and computer == 'scissors') or\n",
        "        (user == 'paper' and computer == 'rock') or\n",
        "        (user == 'scissors' and computer == 'paper')\n",
        "    ):\n",
        "        return \"You win!\"\n",
        "    else:\n",
        "        return \"Computer wins!\"\n",
        "\n",
        "def main():\n",
        "    print(\"Welcome to Rock, Paper, Scissors!\")\n",
        "    while True:\n",
        "        play = input(\"Do you want to play? (yes/no): \").strip().lower()\n",
        "        if play != 'yes':\n",
        "            print(\"Thanks for playing!\")\n",
        "            break\n",
        "\n",
        "        user_choice = input(\"Choose rock, paper, or scissors: \").strip().lower()\n",
        "        if user_choice not in ['rock', 'paper', 'scissors']:\n",
        "            print(\"Invalid choice. Please try again.\")\n",
        "            continue\n",
        "\n",
        "        computer_choice = get_computer_choice()\n",
        "        print(f\"Computer chose: {computer_choice}\")\n",
        "        result = get_winner(user_choice, computer_choice)\n",
        "        print(result)\n",
        "\n",
        "if __name__ == \"__main__\":\n",
        "    main()"
      ],
      "metadata": {
        "colab": {
          "base_uri": "https://localhost:8080/"
        },
        "id": "3tPsACypnVHk",
        "outputId": "8c7c6073-2b4e-40f1-9197-cd3c7da37993"
      },
      "execution_count": null,
      "outputs": [
        {
          "output_type": "stream",
          "name": "stdout",
          "text": [
            "Welcome to Rock, Paper, Scissors!\n",
            "Do you want to play? (yes/no): no\n",
            "Thanks for playing!\n"
          ]
        }
      ]
    },
    {
      "cell_type": "code",
      "source": [
        "def calcFee(h):\n",
        "  fee=5+2.5*h\n",
        "  if fee<10:\n",
        "    return 10\n",
        "  elif fee>20:\n",
        "    return 20\n",
        "  else:\n",
        "    return fee\n",
        "\n",
        "def main():\n",
        "  hours=int(input(\"Enter number of hours: \"))\n",
        "  value=calcFee(hours)\n",
        "  print(value)\n",
        "\n",
        "if __name__=='__main__':\n",
        "  main()"
      ],
      "metadata": {
        "colab": {
          "base_uri": "https://localhost:8080/"
        },
        "id": "QevBm8X7yAvz",
        "outputId": "b0270620-f9a9-4efa-efb5-eb7aa29c315f"
      },
      "execution_count": null,
      "outputs": [
        {
          "output_type": "stream",
          "name": "stdout",
          "text": [
            "Please insert the amount of hours3\n",
            "12.5\n"
          ]
        }
      ]
    },
    {
      "cell_type": "code",
      "source": [
        "def reverse(s):\n",
        "  if len(s)<2:\n",
        "    return s\n",
        "  else:\n",
        "    #return s[-1]+reverse(s[:-1])\n",
        "    #return reverse(s[1:])+s[0]\n",
        "    return s[-1]+reverse(s[1:-1])+s[0]\n",
        "\n",
        "reverse('hello')"
      ],
      "metadata": {
        "colab": {
          "base_uri": "https://localhost:8080/",
          "height": 35
        },
        "id": "lNoJAB347onX",
        "outputId": "5d1e3f43-2c19-4255-b6f1-389ab049bf3c"
      },
      "execution_count": 15,
      "outputs": [
        {
          "output_type": "execute_result",
          "data": {
            "text/plain": [
              "'olleh'"
            ],
            "application/vnd.google.colaboratory.intrinsic+json": {
              "type": "string"
            }
          },
          "metadata": {},
          "execution_count": 15
        }
      ]
    }
  ]
}